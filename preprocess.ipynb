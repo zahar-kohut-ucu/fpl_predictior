{
 "cells": [
  {
   "cell_type": "markdown",
   "metadata": {},
   "source": [
    "# FPL Prices Predicition Model"
   ]
  },
  {
   "cell_type": "markdown",
   "metadata": {},
   "source": [
    "## Data Preprocessing"
   ]
  },
  {
   "cell_type": "code",
   "execution_count": 159,
   "metadata": {},
   "outputs": [],
   "source": [
    "import numpy as np\n",
    "import pandas as pd\n",
    "from xgboost import XGBRegressor\n",
    "from sklearn.model_selection import train_test_split\n",
    "from sklearn.metrics import mean_absolute_error\n",
    "from sklearn.linear_model import Ridge"
   ]
  },
  {
   "cell_type": "markdown",
   "metadata": {},
   "source": [
    "'season_x', 'name', 'position', 'team_x', 'assists', 'bonus', 'bps',\n",
    "       'clean_sheets', 'creativity', 'element', 'fixture', 'goals_conceded',\n",
    "       'goals_scored', 'ict_index', 'influence', 'kickoff_time', 'minutes',\n",
    "       'opponent_team', 'opp_team_name', 'own_goals', 'penalties_missed',\n",
    "       'penalties_saved', 'red_cards', 'round', 'saves', 'selected',\n",
    "       'team_a_score', 'team_h_score', 'threat', 'total_points',\n",
    "       'transfers_balance', 'transfers_in', 'transfers_out', 'value',\n",
    "       'was_home', 'yellow_cards', 'GW'"
   ]
  },
  {
   "cell_type": "code",
   "execution_count": 160,
   "metadata": {},
   "outputs": [
    {
     "name": "stderr",
     "output_type": "stream",
     "text": [
      "/tmp/ipykernel_193308/2081047882.py:1: DtypeWarning: Columns (3) have mixed types. Specify dtype option on import or set low_memory=False.\n",
      "  cleaned_players = pd.read_csv(\"./clean_data/cleaned_merged_seasons.csv\")\n"
     ]
    }
   ],
   "source": [
    "cleaned_players = pd.read_csv(\"./clean_data/cleaned_merged_seasons.csv\")\n",
    "common_features = ['season_x', 'name', 'position', 'assists',\n",
    "       'clean_sheets', 'creativity', 'goals_conceded',\n",
    "       'goals_scored', 'ict_index', 'influence', 'minutes',\n",
    "       'own_goals', \n",
    "       'penalties_saved', 'red_cards', 'round', 'saves', 'selected',\n",
    "       'threat', 'total_points',\n",
    "       'value',\n",
    "       'yellow_cards']\n",
    "cleaned_players = cleaned_players[common_features]"
   ]
  },
  {
   "cell_type": "code",
   "execution_count": 161,
   "metadata": {},
   "outputs": [],
   "source": [
    "gk_features = ['season_x', 'name', 'position',\n",
    "       'clean_sheets', 'goals_conceded',\n",
    "       'influence', 'minutes',\n",
    "       'own_goals', \n",
    "       'penalties_saved', 'round', 'saves', 'selected',\n",
    "       'total_points',\n",
    "       'value',\n",
    "       ]\n",
    "defender_features = ['season_x', 'name', 'position', 'assists',\n",
    "       'clean_sheets', 'ict_index', 'goals_conceded',\n",
    "       'goals_scored', 'influence', 'minutes',\n",
    "       'own_goals', \n",
    "       'red_cards', 'round', 'saves', 'selected',\n",
    "       'threat', 'total_points',\n",
    "       'value',\n",
    "       'yellow_cards']\n",
    "mid_features = ['season_x', 'name', 'position', 'assists',\n",
    "       'creativity', 'ict_index',\n",
    "       'goals_scored', 'influence', 'minutes',\n",
    "       'red_cards', 'round', 'selected',\n",
    "       'threat', 'total_points',\n",
    "       'value',\n",
    "       'yellow_cards']\n",
    "fwd_features = ['season_x', 'name', 'position', 'assists',\n",
    "       'creativity', 'ict_index',\n",
    "       'goals_scored', 'influence', 'minutes',\n",
    "       'round', 'selected',\n",
    "       'threat', 'total_points',\n",
    "       'value',\n",
    "       ]"
   ]
  },
  {
   "cell_type": "code",
   "execution_count": 162,
   "metadata": {},
   "outputs": [],
   "source": [
    "gks = cleaned_players[cleaned_players['position'] == 'GK'][gk_features]\n",
    "defenders = cleaned_players[cleaned_players['position'] == 'DEF'][defender_features]\n",
    "mids = cleaned_players[cleaned_players['position'] == 'MID'][mid_features]\n",
    "fwds = cleaned_players[cleaned_players['position'] == 'FWD'][fwd_features]\n",
    "ds_list = [gks, defenders, mids, fwds]"
   ]
  },
  {
   "cell_type": "code",
   "execution_count": 163,
   "metadata": {},
   "outputs": [],
   "source": [
    "for i, ds in enumerate(ds_list):\n",
    "    ds['player_id'] = ds['name'].astype('category').cat.codes\n",
    "    ds['season'] = ds['season_x'].apply(lambda x: int(x.split('-')[1]))\n",
    "    ds.sort_values(by=['season', 'player_id', 'round'], inplace=True)\n",
    "    ds.drop(columns=['name', 'season_x', 'position'], inplace=True)"
   ]
  },
  {
   "cell_type": "code",
   "execution_count": 164,
   "metadata": {},
   "outputs": [],
   "source": [
    "def update_ds(df, n):\n",
    "    stats_columns = [col for col in df.columns if col not in ['round', 'player_id', 'season', 'value']]\n",
    "    df['next_game_value'] = df.groupby(['season', 'player_id'])['value'].shift(-n)\n",
    "    df['value_change'] = df['next_game_value'] - df['value']\n",
    "    for col in stats_columns:\n",
    "        df[col] = (\n",
    "            df.groupby(['season', 'player_id'])[col]\n",
    "            .apply(lambda x: x.shift(-n + 1).rolling(window=n, min_periods=1).sum()).reset_index(level=[0, 1], drop=True)\n",
    "        )\n",
    "    return df"
   ]
  },
  {
   "cell_type": "code",
   "execution_count": 165,
   "metadata": {},
   "outputs": [],
   "source": [
    "for ds in ds_list:\n",
    "    ds = update_ds(ds, 1)"
   ]
  },
  {
   "cell_type": "code",
   "execution_count": 166,
   "metadata": {},
   "outputs": [],
   "source": [
    "gk_features = ['clean_sheets', 'goals_conceded',\n",
    "       'influence', 'minutes',\n",
    "       'own_goals', \n",
    "       'penalties_saved', 'round', 'saves', 'selected',\n",
    "       'total_points',\n",
    "       #'value',\n",
    "       ]\n",
    "defender_features = ['assists',\n",
    "       'clean_sheets', 'ict_index', 'goals_conceded',\n",
    "       'goals_scored', 'influence', 'minutes',\n",
    "       'own_goals', \n",
    "       'red_cards', 'round', 'saves', 'selected',\n",
    "       'threat', 'total_points',\n",
    "       #'value',\n",
    "       'yellow_cards']\n",
    "mid_features = ['assists',\n",
    "       'creativity', 'ict_index',\n",
    "       'goals_scored', 'influence', 'minutes',\n",
    "       'red_cards', 'round', 'selected',\n",
    "       'threat', 'total_points',\n",
    "       #'value',\n",
    "       'yellow_cards']\n",
    "fwd_features = ['assists',\n",
    "       'creativity', 'ict_index',\n",
    "       'goals_scored', 'influence', 'minutes',\n",
    "       'round', 'selected',\n",
    "       'threat', 'total_points',\n",
    "       #'value',\n",
    "       ]"
   ]
  },
  {
   "cell_type": "code",
   "execution_count": 168,
   "metadata": {},
   "outputs": [
    {
     "name": "stdout",
     "output_type": "stream",
     "text": [
      "gk  absolute error:  0.081826114424121\n",
      "def  absolute error:  0.1365800414430101\n",
      "mid  absolute error:  0.14748202227653653\n",
      "fwd  absolute error:  0.1991280779519458\n"
     ]
    }
   ],
   "source": [
    "pos_list = ['gk', 'def', 'mid', 'fwd']\n",
    "ds_features = [gk_features, defender_features, mid_features, fwd_features]\n",
    "for i, ds in enumerate(ds_list):\n",
    "    ds.dropna(inplace=True)\n",
    "    X, y = ds[ds_features[i]], ds[\"value_change\"]\n",
    "    X_train, X_test, y_train, y_test = train_test_split(X, y, test_size=0.25, random_state=42)\n",
    "    model = Ridge()\n",
    "    model.fit(X_train, y_train)\n",
    "    y_pred = model.predict(X_test)\n",
    "    print(pos_list[i], \" absolute error: \", mean_absolute_error(y_test, y_pred))"
   ]
  }
 ],
 "metadata": {
  "kernelspec": {
   "display_name": "Python 3",
   "language": "python",
   "name": "python3"
  },
  "language_info": {
   "codemirror_mode": {
    "name": "ipython",
    "version": 3
   },
   "file_extension": ".py",
   "mimetype": "text/x-python",
   "name": "python",
   "nbconvert_exporter": "python",
   "pygments_lexer": "ipython3",
   "version": "3.10.12"
  }
 },
 "nbformat": 4,
 "nbformat_minor": 2
}
